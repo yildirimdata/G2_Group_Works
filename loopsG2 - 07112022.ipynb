{
 "cells": [
  {
   "cell_type": "markdown",
   "id": "475f3ce6-14e4-47dd-84b9-fc2fd2a39a34",
   "metadata": {},
   "source": [
    "# Potansiyel konular\n",
    "\n",
    "- Bir soruyu çözmek istediğimizde variables veya sayaç belirlerken while veya for'dan önce ve sonra yazmamız halinde nelere dikkat etmeli\n",
    "\n",
    "- print() indentationun etkisi: dış ve iç loop seviyesinde belirlerken neye dikkate etmeli\n",
    "\n",
    "- Aşağıda Örnek 1, Örnek 2 ve Örnek 3'te olduğu gibi; hangi hallerde iki sayac belirlemeli ve aralarındaki ilişkiyi nasıl kurmalıyız\n",
    "\n",
    "- for loops'da genelde sayac kullanmıyoruz. Kullanmamız gerekirse nelere dikkat etmeli (Örnek 4)\n",
    "\n",
    "- break koymamız halinde koyacağımız yer/indentationda dikkat etmemiz gerekenler.\n",
    "\n",
    "- kod yazarken for loops - while loops tercihinde dikkat etmemiz gereken noktalar.\n",
    "\n",
    "- Sonucu listeye ekle veya bir rangedeki numaraların toplamını ver kodlarında total ve liste[] variables belirleme ve print indentationu (örnek 5 ve 6)\n",
    "\n"
   ]
  },
  {
   "cell_type": "code",
   "execution_count": 1,
   "id": "f67be2ee-96c7-420e-bba7-fcfbb420c9aa",
   "metadata": {},
   "outputs": [
    {
     "name": "stdout",
     "output_type": "stream",
     "text": [
      "Rose\n",
      "Orchid\n",
      "Tulip\n"
     ]
    }
   ],
   "source": [
    "# Örnek 1\n",
    "flowers = ['Rose', 'Orchid', 'Tulip']\n",
    "count1 = len(flowers)\n",
    "count2 = 0  \n",
    "\n",
    "while count1>0 :\n",
    "    print(flowers[count2])\n",
    "    count1 -= 1\n",
    "    count2 += 1"
   ]
  },
  {
   "cell_type": "code",
   "execution_count": null,
   "id": "4191a07f-3566-48c1-ab21-6c1a3efc2311",
   "metadata": {},
   "outputs": [],
   "source": [
    "# örnek 2\n",
    "answer = 25\n",
    "hak = int(input(\"kaç hak istersiniz?\"))\n",
    "sayac = 0\n",
    "while hak > 0:\n",
    "  hak -= 1\n",
    "  sayac += 1\n",
    "  tahmin = int(input(\"tahmininiz: \"))\n",
    "  if answer == tahmin :\n",
    "    print(f\"Tebrikler {sayac}. defada bildiniz...\")\n",
    "    break\n",
    "  elif answer > tahmin :\n",
    "    print(\"yukarı\")\n",
    "  else :\n",
    "    print(\"aşağı\")\n",
    "  \n",
    "  if hak == 0 :\n",
    "    print(f\"hakkınız bitti. tutulan sayı : {answer}.\")"
   ]
  },
  {
   "cell_type": "code",
   "execution_count": null,
   "id": "d52fafab-cb59-4eab-afe4-2c120f9d1e6a",
   "metadata": {},
   "outputs": [],
   "source": [
    "# Örnek 3: altalta 5 satır \"Hello World World World World\" yazınız\n",
    "i = 1\n",
    "while i <=5:\n",
    "    print('Hello', end=' ')\n",
    "    i += 1  \n",
    "    j = 1\n",
    "    while j<=4:\n",
    "        print('World', end=' ')\n",
    "        j += 1  \n",
    "  \n",
    "  print()"
   ]
  },
  {
   "cell_type": "code",
   "execution_count": null,
   "id": "4a1c2d09-02d8-4bf6-99bc-ae95e2444154",
   "metadata": {},
   "outputs": [],
   "source": [
    "# Örnek 4\n",
    "aaa = \"Clarusway\"\n",
    "counter = 0\n",
    "for i in aaa:\n",
    "  counter += 1\n",
    "  if counter < len(aaa) :\n",
    "    i += \"-\"\n",
    "  print(i, end = \"\")"
   ]
  },
  {
   "cell_type": "code",
   "execution_count": null,
   "id": "6f95bf3a-3d6c-4e8e-8e37-65f0ee624bde",
   "metadata": {},
   "outputs": [],
   "source": [
    "# örnek 5\n",
    "# print prime numbers between 1 - 100. We will display prime numbers in a list form\n",
    "prime=[]  # created an empty list to collect prime numbers in it\n",
    "\n",
    "\n",
    "for num in range(2, 101):\n",
    "    status = True\n",
    "    for i in range(2, num):\n",
    "        if num % i == 0: # check if the only factors are 1 and itself\n",
    "            status = False\n",
    "    if status:\n",
    "        prime.append(num)  # collect prime numbers in the list\n",
    "\n",
    "print(prime)"
   ]
  },
  {
   "cell_type": "code",
   "execution_count": null,
   "id": "3831b3fe-1034-4373-979e-8fea69c69825",
   "metadata": {},
   "outputs": [],
   "source": [
    "# Örnek 6 (hem total hem liste örnegi): task: listede 501'ekadar olan tek sayıları topla ve sırala\n",
    "numbers = [\n",
    "    951, 402, 984, 651, 360, 69, 408, 319, 601, 485, 980, 507, 725, 547, 544,\n",
    "    615, 83, 165, 141, 501, 263, 617, 865, 575\n",
    "    ]\n",
    "total = 0\n",
    "listeee = [] \n",
    "for number in numbers:\n",
    "  if number == 501:\n",
    "    break\n",
    "  if number % 2:\n",
    "    listeee.append(number)\n",
    "    total += number\n",
    "    print(number, end=\" \")\n",
    "print()\n",
    "print(total)\n",
    "print(listeee)"
   ]
  },
  {
   "cell_type": "markdown",
   "id": "1e49fc0b-8b4a-4e0a-a6c3-9f63d1df183a",
   "metadata": {},
   "source": [
    "# EKSTRA PRATIK ICIN ORNEKLER\n"
   ]
  },
  {
   "cell_type": "code",
   "execution_count": null,
   "id": "b32a3d94-2555-4f21-b69b-9af565510963",
   "metadata": {},
   "outputs": [],
   "source": [
    "# 0'dan 100e kadar sayıları while ve for ile topla\n",
    "\n",
    "# YÖNTEM 1\n",
    "counter = 0\n",
    "total = 0\n",
    "\n",
    "while counter < 100:\n",
    "  counter += 1\n",
    "  total += counter\n",
    "  if counter == 100:\n",
    "    break\n",
    "print (total)\n",
    "print()\n",
    "# YÖNTEM 2\n",
    "counter = 0\n",
    "total = 0\n",
    "while counter <= 100:\n",
    "    total= total+counter \n",
    "    counter= counter+1\n",
    "print(total)\n"
   ]
  },
  {
   "cell_type": "code",
   "execution_count": null,
   "id": "4934579b-ec1c-4dc6-be41-9cf88b520855",
   "metadata": {},
   "outputs": [],
   "source": [
    "# 0'dan 100'e kadar sayılardan sadece odd olanlaırı topla\n",
    "counter = 0\n",
    "total = 0\n",
    "for counter in range (0, 100):\n",
    "  if counter % 2 != 0:  # bunu koyarsak sadece oddları toplar\n",
    "    counter += 1\n",
    "    total += counter\n",
    "print(total)"
   ]
  }
 ],
 "metadata": {
  "kernelspec": {
   "display_name": "Python 3 (ipykernel)",
   "language": "python",
   "name": "python3"
  },
  "language_info": {
   "codemirror_mode": {
    "name": "ipython",
    "version": 3
   },
   "file_extension": ".py",
   "mimetype": "text/x-python",
   "name": "python",
   "nbconvert_exporter": "python",
   "pygments_lexer": "ipython3",
   "version": "3.9.12"
  }
 },
 "nbformat": 4,
 "nbformat_minor": 5
}
